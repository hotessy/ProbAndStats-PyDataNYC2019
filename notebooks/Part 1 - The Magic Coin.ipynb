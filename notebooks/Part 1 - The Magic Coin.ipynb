{
 "cells": [
  {
   "cell_type": "markdown",
   "metadata": {},
   "source": [
    "# Probability and Statistics - Part 1 The Magic Coin\n",
    "\n",
    "In this tutorial we're going to take a look at Probability and Statistics. The overall goal is to cover a lot of ground fairly quickly so that you'll get a sense of how all the pieces work in practice. Where going to start with a simple example that will demonstart the key problems behind probability and statistics.\n",
    "\n",
    "For this first part we won't be importing any `random` library. The only tool we'll need to create randomness is:"
   ]
  },
  {
   "cell_type": "code",
   "execution_count": 1,
   "metadata": {},
   "outputs": [],
   "source": [
    "import time"
   ]
  },
  {
   "cell_type": "markdown",
   "metadata": {},
   "source": [
    "There is a common belief that **randomness** is **not a property of the world** but this is a misunderstanding. When we say that something is \"random\" we are really describing **the state of our own mind**. To explore this we'll start with a very interesting `class` called `MagicCoin`:"
   ]
  },
  {
   "cell_type": "code",
   "execution_count": 2,
   "metadata": {},
   "outputs": [],
   "source": [
    "class MagicCoin:\n",
    "    \n",
    "    def __init__(self,n):\n",
    "        self.n = n\n",
    "    \n",
    "    def flip(self):\n",
    "        return(\n",
    "            int(time.time()) % self.n == 0\n",
    "        )"
   ]
  },
  {
   "cell_type": "markdown",
   "metadata": {},
   "source": [
    "This `MagicCoin` may not initially seem that *magic*: all it does is take an integer `n` and than uses that determine heads (`True`) or tails (`False`) based on the current time in seconds. \n",
    "\n",
    "Just to make sure this simple `flip` logic makes sense. If the time now is:"
   ]
  },
  {
   "cell_type": "code",
   "execution_count": 3,
   "metadata": {},
   "outputs": [
    {
     "data": {
      "text/plain": [
       "1586334801.334852"
      ]
     },
     "execution_count": 3,
     "metadata": {},
     "output_type": "execute_result"
    }
   ],
   "source": [
    "time.time()"
   ]
  },
  {
   "cell_type": "markdown",
   "metadata": {},
   "source": [
    "then casting that to an `int` will give us:"
   ]
  },
  {
   "cell_type": "code",
   "execution_count": 4,
   "metadata": {},
   "outputs": [
    {
     "data": {
      "text/plain": [
       "1586334802"
      ]
     },
     "execution_count": 4,
     "metadata": {},
     "output_type": "execute_result"
    }
   ],
   "source": [
    "int(time.time())"
   ]
  },
  {
   "cell_type": "markdown",
   "metadata": {},
   "source": [
    "..oops! time changes so quickly! But you get the point, now we have an `int` and depending on `n` we get a result of our coin toss..."
   ]
  },
  {
   "cell_type": "code",
   "execution_count": 5,
   "metadata": {},
   "outputs": [
    {
     "data": {
      "text/plain": [
       "0"
      ]
     },
     "execution_count": 5,
     "metadata": {},
     "output_type": "execute_result"
    }
   ],
   "source": [
    "int(time.time()) % 2"
   ]
  },
  {
   "cell_type": "markdown",
   "metadata": {},
   "source": [
    "Okay let's just make a MagicCoin and start thinking about Probability!\n",
    "\n",
    "Here's our coin:"
   ]
  },
  {
   "cell_type": "code",
   "execution_count": 6,
   "metadata": {},
   "outputs": [],
   "source": [
    "mc = MagicCoin(2)"
   ]
  },
  {
   "cell_type": "markdown",
   "metadata": {},
   "source": [
    "Now this is where notebooks are really fun! Run the next line..."
   ]
  },
  {
   "cell_type": "code",
   "execution_count": 7,
   "metadata": {},
   "outputs": [],
   "source": [
    "result = mc.flip()"
   ]
  },
  {
   "cell_type": "markdown",
   "metadata": {},
   "source": [
    "Don't print it yet! What is the value of `result`? The obvious answer is that \"we don't know!!!\" but that's not really true. \n",
    "\n",
    "We know that the result could either be `True` or `False`. This is a big deal because it drastically limits the realm of values that `result` could have. \n",
    "\n",
    "## Probability\n",
    "\n",
    "Since we know the result can either be `True` or `False` but which is it? It turns out we can solve this problem if we extend the way we think about logic to be a bit more flexible.\n",
    "\n",
    "In boolean logic, the logic we use every day when writing programs, we think of facts as either being `True` or `False`. In the case of our Magic coin, this is true. The value of `result` is only one of these two choices.\n",
    "\n",
    "The problem is that we're missing information to let us know which one of the two it is. How can we express this missing information. Well we can start by thinking of :\n",
    "\n",
    "`True` -> `1`\n",
    "\n",
    "`False` -> `0`\n",
    "\n",
    "So what is the values of `result`? Well if we think of being closer to `True` as being closer to `1` and being closer to `False` as being closer to `0`, then the most obvious choice here is to choose `0.5`. \n",
    "\n",
    "This is all that probability is: a number between 0 and 1 that represents how close to `True` or how close to `False` something is when we don't have enough information to know for sure (and we almost *never* have enough information).\n",
    "\n",
    "There's a lot of mathematically ways we can talk about (and argue about) for exactly to chose these number, but for this tutorial most of your intuitions will be reasonably correct, and when they're not this tutorial to try to point out why."
   ]
  },
  {
   "cell_type": "markdown",
   "metadata": {},
   "source": [
    "### \"Randomness\" is a property of your mind\n",
    "\n",
    "Initially assigning a value of 0.5 to the value of this coin toss might seem strange, after all the `MagicCoin` can only return `True` or `False`, 0.5 doesn't make sense!\n",
    "\n",
    "And this is a great observation and a very important one because:\n",
    "*probability says nothing at all about the world, it only makes statements about your own mind*\n",
    "\n",
    "![Randomness is in your mind](images/mind_1.jpg)\n",
    "\n",
    "In this first example we know exactly how the world works (which is very rare), and we're just missing a tiny, tiny piece of information: the exact time when we called `flip`.\n",
    "\n",
    "This makes `result` a **random variable** but as everyone in this room knows, the *value* of `result` is either `True` or `False` and it is exactly one of them. Right now, in the notebook state, the value of `result` is decided, we just haven't seen it.\n",
    "\n",
    "What is *random* is our state of mind.\n",
    "\n",
    "This is important because we often think about *random* events as being somehow choatic out of our control, this is a mistake of thinking that the *world* is random. When we think about *randomness* as a statement about our own state of ignorance, and probability as a measure of that, we make better decisions about how we use probability and statistics.\n",
    "\n",
    "Consider this book by Nassim Taleb:\n",
    "\n",
    "![Fooled by Randomness](./images/fbr.jpg)\n",
    "\n",
    "Being fooled by randomness sounds a bit spooky! But consider this reworking of the title to incorporate the idea of randomness as a statement about our ignorance:\n",
    "\n",
    "![Fooled by Ignorance...](./images/fbr_alt.jpg)\n",
    "\n",
    "Much less catchy, but also a much more honest assessment of our situation. Keep this in mind whenever you do statistics! You are always making statements about your mind and about your ignorance of the world."
   ]
  },
  {
   "cell_type": "markdown",
   "metadata": {},
   "source": [
    "The `MagicCoin` is only really \"magic\" when we don't know how it works. When we look at `result` there is no more mystery, and no more probability:"
   ]
  },
  {
   "cell_type": "code",
   "execution_count": 8,
   "metadata": {},
   "outputs": [
    {
     "data": {
      "text/plain": [
       "False"
      ]
     },
     "execution_count": 8,
     "metadata": {},
     "output_type": "execute_result"
    }
   ],
   "source": [
    "result"
   ]
  },
  {
   "cell_type": "markdown",
   "metadata": {},
   "source": [
    "## Logic of Probability!\n",
    "\n",
    "Now the real power of a probability is that we can combine uncertainty with the same type of logic we do for `bool` types in programming! The rules are pretty similar with some nuance...\n",
    "\n",
    "\n",
    "Notice that in all these examples if we consider `1.0` to be `True` and `0.0` to be `False` the logic is *exactly* the same.\n",
    "\n",
    "**note:** these are slightly simplified rules that assume something called conditional independence. There is a more naunced definition of some of these used for what we call conditional probabilities. Conditional probabilities happen when knowing something about one thing tells us information about another. "
   ]
  },
  {
   "cell_type": "markdown",
   "metadata": {},
   "source": [
    "#### Logical NOT"
   ]
  },
  {
   "cell_type": "code",
   "execution_count": 9,
   "metadata": {},
   "outputs": [
    {
     "data": {
      "text/plain": [
       "False"
      ]
     },
     "execution_count": 9,
     "metadata": {},
     "output_type": "execute_result"
    }
   ],
   "source": [
    "not True"
   ]
  },
  {
   "cell_type": "code",
   "execution_count": 10,
   "metadata": {},
   "outputs": [
    {
     "data": {
      "text/plain": [
       "True"
      ]
     },
     "execution_count": 10,
     "metadata": {},
     "output_type": "execute_result"
    }
   ],
   "source": [
    "not False"
   ]
  },
  {
   "cell_type": "markdown",
   "metadata": {},
   "source": [
    "#### Probabilistic NOT\n",
    "\n",
    "$$\\text{not } P(A) = 1-P(A)$$"
   ]
  },
  {
   "cell_type": "code",
   "execution_count": 11,
   "metadata": {},
   "outputs": [
    {
     "data": {
      "text/plain": [
       "0.0"
      ]
     },
     "execution_count": 11,
     "metadata": {},
     "output_type": "execute_result"
    }
   ],
   "source": [
    "1 - 1.0"
   ]
  },
  {
   "cell_type": "code",
   "execution_count": 12,
   "metadata": {},
   "outputs": [
    {
     "data": {
      "text/plain": [
       "1.0"
      ]
     },
     "execution_count": 12,
     "metadata": {},
     "output_type": "execute_result"
    }
   ],
   "source": [
    "1 - 0.0"
   ]
  },
  {
   "cell_type": "code",
   "execution_count": 13,
   "metadata": {},
   "outputs": [
    {
     "data": {
      "text/plain": [
       "0.75"
      ]
     },
     "execution_count": 13,
     "metadata": {},
     "output_type": "execute_result"
    }
   ],
   "source": [
    "1-0.25"
   ]
  },
  {
   "cell_type": "markdown",
   "metadata": {},
   "source": [
    "#### Logicial AND"
   ]
  },
  {
   "cell_type": "code",
   "execution_count": 14,
   "metadata": {},
   "outputs": [
    {
     "data": {
      "text/plain": [
       "False"
      ]
     },
     "execution_count": 14,
     "metadata": {},
     "output_type": "execute_result"
    }
   ],
   "source": [
    "True and False"
   ]
  },
  {
   "cell_type": "code",
   "execution_count": 15,
   "metadata": {},
   "outputs": [
    {
     "data": {
      "text/plain": [
       "True"
      ]
     },
     "execution_count": 15,
     "metadata": {},
     "output_type": "execute_result"
    }
   ],
   "source": [
    "True and True"
   ]
  },
  {
   "cell_type": "code",
   "execution_count": 16,
   "metadata": {},
   "outputs": [
    {
     "data": {
      "text/plain": [
       "False"
      ]
     },
     "execution_count": 16,
     "metadata": {},
     "output_type": "execute_result"
    }
   ],
   "source": [
    "False and False"
   ]
  },
  {
   "cell_type": "markdown",
   "metadata": {},
   "source": [
    "#### Probabilitistic AND\n",
    "\n",
    "$$P(A \\text{ and } B) = P(A) \\cdot P(B) $$"
   ]
  },
  {
   "cell_type": "code",
   "execution_count": 17,
   "metadata": {},
   "outputs": [
    {
     "data": {
      "text/plain": [
       "1.0"
      ]
     },
     "execution_count": 17,
     "metadata": {},
     "output_type": "execute_result"
    }
   ],
   "source": [
    "1.0 * 1.0"
   ]
  },
  {
   "cell_type": "code",
   "execution_count": null,
   "metadata": {},
   "outputs": [],
   "source": [
    "1.0 * 0.0"
   ]
  },
  {
   "cell_type": "code",
   "execution_count": null,
   "metadata": {},
   "outputs": [],
   "source": [
    "0.0 * 0.0"
   ]
  },
  {
   "cell_type": "code",
   "execution_count": null,
   "metadata": {},
   "outputs": [],
   "source": [
    "0.5*0.5"
   ]
  },
  {
   "cell_type": "markdown",
   "metadata": {},
   "source": [
    "#### Logical OR"
   ]
  },
  {
   "cell_type": "code",
   "execution_count": null,
   "metadata": {},
   "outputs": [],
   "source": [
    "True or True"
   ]
  },
  {
   "cell_type": "code",
   "execution_count": null,
   "metadata": {},
   "outputs": [],
   "source": [
    "True or False"
   ]
  },
  {
   "cell_type": "code",
   "execution_count": null,
   "metadata": {},
   "outputs": [],
   "source": [
    "False or False"
   ]
  },
  {
   "cell_type": "markdown",
   "metadata": {},
   "source": [
    "#### Probabilistic OR\n",
    "\n",
    "$$P(A \\text{ or } B) = P(A) + P(B) - P(A) \\cdot P(B) $$\n",
    "\n",
    "Not this is a little more complicated than the others. "
   ]
  },
  {
   "cell_type": "code",
   "execution_count": null,
   "metadata": {},
   "outputs": [],
   "source": [
    "1.0 + 1.0 - 1.0*1.0"
   ]
  },
  {
   "cell_type": "code",
   "execution_count": null,
   "metadata": {},
   "outputs": [],
   "source": [
    "1.0 + 0.0 - 1.0*0.0"
   ]
  },
  {
   "cell_type": "code",
   "execution_count": null,
   "metadata": {},
   "outputs": [],
   "source": [
    "0.0 + 0.0 - 0.0*0.0"
   ]
  },
  {
   "cell_type": "code",
   "execution_count": null,
   "metadata": {},
   "outputs": [],
   "source": [
    "0.25 + 0.3 - 0.25*0.3"
   ]
  },
  {
   "cell_type": "markdown",
   "metadata": {},
   "source": [
    "Let's take this one step further and build out a probably class, `P`, that uses Python's data model methods to implement a working example of probability as logic using `-`,`&` and `|`."
   ]
  },
  {
   "cell_type": "code",
   "execution_count": 18,
   "metadata": {},
   "outputs": [],
   "source": [
    "class P:\n",
    "    \"\"\"\n",
    "    Example of Probability as logic using Python's data model\n",
    "    In this simple example these probabilites are assumed to \n",
    "    be conditionally independent.\n",
    "    \"\"\"\n",
    "    def __init__(self,prob):\n",
    "        assert prob >= 0, \"probabilities can't be negative!\" \n",
    "        assert prob <= 1, \"probabilities can't be great than 1!\"\n",
    "        self.prob = prob\n",
    "        \n",
    "    def __repr__(self):\n",
    "        return \"P({})\".format(self.prob)\n",
    "\n",
    "    def __neg__(self):\n",
    "        return P(1-self.prob)\n",
    "    \n",
    "    def __and__(self,P2):\n",
    "        return P(self.prob * P2.prob)\n",
    "    \n",
    "    def __or__(self,P2):\n",
    "        return P(self.prob + P2.prob - (self & P2).prob)\n",
    "    \n",
    "    #for mutually exclusive or\n",
    "    def __add__(self,P2):\n",
    "        return P(self.prob + P2.prob)"
   ]
  },
  {
   "cell_type": "markdown",
   "metadata": {},
   "source": [
    "We can then use this to work out probabilities of various events happening using python!\n",
    "\n",
    "Suppose, for example, you know that there is a 0.3 probability of rain tomorrow and you'll get rained of if forget your umbrella or your umbrella is broken. Then let's say you forget your umbrella with a probability 0.1 and you think your umbrella might be the broken, we'll give that a probability of 0.7. \n",
    "\n",
    "Now let's use logic to answer: What's the probability you will *not* get wet?\n",
    "\n",
    "Let's start with our facts:"
   ]
  },
  {
   "cell_type": "code",
   "execution_count": 19,
   "metadata": {},
   "outputs": [],
   "source": [
    "rain = P(0.3)\n",
    "forget = P(0.1)\n",
    "broken = P(0.7)"
   ]
  },
  {
   "cell_type": "markdown",
   "metadata": {},
   "source": [
    "The probability of being `wet` is:"
   ]
  },
  {
   "cell_type": "code",
   "execution_count": 20,
   "metadata": {},
   "outputs": [],
   "source": [
    "wet = rain & (forget | broken)"
   ]
  },
  {
   "cell_type": "markdown",
   "metadata": {},
   "source": [
    "and logically the probability of being dry is:"
   ]
  },
  {
   "cell_type": "code",
   "execution_count": 21,
   "metadata": {},
   "outputs": [
    {
     "data": {
      "text/plain": [
       "P(0.781)"
      ]
     },
     "execution_count": 21,
     "metadata": {},
     "output_type": "execute_result"
    }
   ],
   "source": [
    "-wet"
   ]
  },
  {
   "cell_type": "markdown",
   "metadata": {},
   "source": [
    "### Logic is how we reason when we are *certain* about facts\n",
    "### Probability is how we reason when we are *uncertain* about the facts...\n",
    "\n",
    "## Probability is the Logic of Uncertainity"
   ]
  },
  {
   "cell_type": "code",
   "execution_count": 22,
   "metadata": {},
   "outputs": [],
   "source": [
    "mc2 = MagicCoin(3)"
   ]
  },
  {
   "cell_type": "markdown",
   "metadata": {},
   "source": [
    "Now we have a baised coin. What is the probability we get `True`?\n",
    "\n",
    "\n",
    "$$P(True)=\\frac{1}{3}$$\n",
    "\n",
    "Or with our `P` class:"
   ]
  },
  {
   "cell_type": "code",
   "execution_count": 23,
   "metadata": {},
   "outputs": [],
   "source": [
    "TRUE = P(1/3)"
   ]
  },
  {
   "cell_type": "code",
   "execution_count": 24,
   "metadata": {},
   "outputs": [],
   "source": [
    "results = []"
   ]
  },
  {
   "cell_type": "code",
   "execution_count": 25,
   "metadata": {},
   "outputs": [],
   "source": [
    "results.append(mc2.flip())"
   ]
  },
  {
   "cell_type": "markdown",
   "metadata": {},
   "source": [
    "*note:* these need to be in two seperate cells so that there is a no trivial time difference between the two"
   ]
  },
  {
   "cell_type": "code",
   "execution_count": 26,
   "metadata": {},
   "outputs": [],
   "source": [
    "results.append(mc2.flip())"
   ]
  },
  {
   "cell_type": "code",
   "execution_count": 27,
   "metadata": {},
   "outputs": [],
   "source": [
    "result2 = any(results)"
   ]
  },
  {
   "cell_type": "markdown",
   "metadata": {},
   "source": [
    "Ah! Don't peak yet! What is the probability that `result2` is `True`?\n",
    "Let's use the tools we have so far..\n",
    "\n",
    "To begin lets list out all possible outcomes:\n",
    "\n",
    "```\n",
    "[True,True]\n",
    "[False,False]\n",
    "[False,True]\n",
    "[True,False]\n",
    "\n",
    "```\n",
    "\n",
    "Now we can use our `P` objects to calculate the probability of each these out comes:\n",
    "\n",
    "`[True, True]`\n"
   ]
  },
  {
   "cell_type": "code",
   "execution_count": 28,
   "metadata": {},
   "outputs": [
    {
     "data": {
      "text/plain": [
       "P(0.1111111111111111)"
      ]
     },
     "execution_count": 28,
     "metadata": {},
     "output_type": "execute_result"
    }
   ],
   "source": [
    "TRUE & TRUE"
   ]
  },
  {
   "cell_type": "markdown",
   "metadata": {},
   "source": [
    "Because `False` is really the negation of `True` we know that:"
   ]
  },
  {
   "cell_type": "code",
   "execution_count": 29,
   "metadata": {},
   "outputs": [],
   "source": [
    "FALSE = -TRUE"
   ]
  },
  {
   "cell_type": "markdown",
   "metadata": {},
   "source": [
    "So, using our logic for:\n",
    "\n",
    "`[False,False]`\n",
    "\n",
    "We get:"
   ]
  },
  {
   "cell_type": "code",
   "execution_count": 30,
   "metadata": {},
   "outputs": [
    {
     "data": {
      "text/plain": [
       "P(0.44444444444444453)"
      ]
     },
     "execution_count": 30,
     "metadata": {},
     "output_type": "execute_result"
    }
   ],
   "source": [
    "FALSE & FALSE"
   ]
  },
  {
   "cell_type": "markdown",
   "metadata": {},
   "source": [
    "Finally we have two cases which should have the same probability (so we only have to solve once):\n",
    "\n",
    "```\n",
    "[True,False]\n",
    "```"
   ]
  },
  {
   "cell_type": "code",
   "execution_count": 31,
   "metadata": {},
   "outputs": [
    {
     "data": {
      "text/plain": [
       "P(0.22222222222222224)"
      ]
     },
     "execution_count": 31,
     "metadata": {},
     "output_type": "execute_result"
    }
   ],
   "source": [
    "TRUE & FALSE"
   ]
  },
  {
   "cell_type": "markdown",
   "metadata": {},
   "source": [
    "Finally we can figure out the probability `any` of our results to be `True`, we can just use OR (and since these events our mutually exclusve:"
   ]
  },
  {
   "cell_type": "code",
   "execution_count": 32,
   "metadata": {},
   "outputs": [
    {
     "ename": "AttributeError",
     "evalue": "'float' object has no attribute 'prob'",
     "output_type": "error",
     "traceback": [
      "\u001b[0;31m---------------------------------------------------------------------------\u001b[0m",
      "\u001b[0;31mAttributeError\u001b[0m                            Traceback (most recent call last)",
      "\u001b[0;32m<ipython-input-32-501a7678142d>\u001b[0m in \u001b[0;36m<module>\u001b[0;34m\u001b[0m\n\u001b[0;32m----> 1\u001b[0;31m \u001b[0mP\u001b[0m\u001b[0;34m(\u001b[0m\u001b[0;34m(\u001b[0m\u001b[0mTRUE\u001b[0m \u001b[0;34m&\u001b[0m \u001b[0mTRUE\u001b[0m\u001b[0;34m)\u001b[0m \u001b[0;34m+\u001b[0m  \u001b[0;34m(\u001b[0m\u001b[0mTRUE\u001b[0m \u001b[0;34m&\u001b[0m \u001b[0mFALSE\u001b[0m\u001b[0;34m)\u001b[0m \u001b[0;34m+\u001b[0m \u001b[0;34m(\u001b[0m\u001b[0mFALSE\u001b[0m \u001b[0;34m&\u001b[0m \u001b[0mTRUE\u001b[0m\u001b[0;34m)\u001b[0m\u001b[0;34m.\u001b[0m\u001b[0mprob\u001b[0m\u001b[0;34m)\u001b[0m\u001b[0;34m\u001b[0m\u001b[0;34m\u001b[0m\u001b[0m\n\u001b[0m",
      "\u001b[0;32m<ipython-input-18-7e3235c3b34f>\u001b[0m in \u001b[0;36m__add__\u001b[0;34m(self, P2)\u001b[0m\n\u001b[1;32m     24\u001b[0m     \u001b[0;31m#for mutually exclusive or\u001b[0m\u001b[0;34m\u001b[0m\u001b[0;34m\u001b[0m\u001b[0;34m\u001b[0m\u001b[0m\n\u001b[1;32m     25\u001b[0m     \u001b[0;32mdef\u001b[0m \u001b[0m__add__\u001b[0m\u001b[0;34m(\u001b[0m\u001b[0mself\u001b[0m\u001b[0;34m,\u001b[0m\u001b[0mP2\u001b[0m\u001b[0;34m)\u001b[0m\u001b[0;34m:\u001b[0m\u001b[0;34m\u001b[0m\u001b[0;34m\u001b[0m\u001b[0m\n\u001b[0;32m---> 26\u001b[0;31m         \u001b[0;32mreturn\u001b[0m \u001b[0mP\u001b[0m\u001b[0;34m(\u001b[0m\u001b[0mself\u001b[0m\u001b[0;34m.\u001b[0m\u001b[0mprob\u001b[0m \u001b[0;34m+\u001b[0m \u001b[0mP2\u001b[0m\u001b[0;34m.\u001b[0m\u001b[0mprob\u001b[0m\u001b[0;34m)\u001b[0m\u001b[0;34m\u001b[0m\u001b[0;34m\u001b[0m\u001b[0m\n\u001b[0m",
      "\u001b[0;31mAttributeError\u001b[0m: 'float' object has no attribute 'prob'"
     ]
    }
   ],
   "source": [
    " P((TRUE & TRUE) +  (TRUE & FALSE) + (FALSE & TRUE).prob)"
   ]
  },
  {
   "cell_type": "markdown",
   "metadata": {},
   "source": [
    "of course we could have also just our rules of logic a bit differently and gotten the same result:"
   ]
  },
  {
   "cell_type": "code",
   "execution_count": 33,
   "metadata": {},
   "outputs": [
    {
     "data": {
      "text/plain": [
       "P(0.5555555555555555)"
      ]
     },
     "execution_count": 33,
     "metadata": {},
     "output_type": "execute_result"
    }
   ],
   "source": [
    "-(FALSE & FALSE)"
   ]
  },
  {
   "cell_type": "markdown",
   "metadata": {},
   "source": [
    "Now we can evaluate this:"
   ]
  },
  {
   "cell_type": "code",
   "execution_count": null,
   "metadata": {},
   "outputs": [],
   "source": [
    "result2"
   ]
  },
  {
   "cell_type": "code",
   "execution_count": null,
   "metadata": {},
   "outputs": [],
   "source": []
  },
  {
   "cell_type": "markdown",
   "metadata": {},
   "source": [
    "now let's try this:"
   ]
  },
  {
   "cell_type": "code",
   "execution_count": null,
   "metadata": {},
   "outputs": [],
   "source": [
    "mc3 = MagicCoin(4)"
   ]
  },
  {
   "cell_type": "code",
   "execution_count": null,
   "metadata": {},
   "outputs": [],
   "source": [
    "more_results = []"
   ]
  },
  {
   "cell_type": "code",
   "execution_count": null,
   "metadata": {},
   "outputs": [],
   "source": [
    "more_results.append(mc3.flip())"
   ]
  },
  {
   "cell_type": "code",
   "execution_count": null,
   "metadata": {},
   "outputs": [],
   "source": [
    "more_results.append(mc3.flip())"
   ]
  },
  {
   "cell_type": "code",
   "execution_count": null,
   "metadata": {},
   "outputs": [],
   "source": [
    "more_results.append(mc3.flip())"
   ]
  },
  {
   "cell_type": "code",
   "execution_count": null,
   "metadata": {},
   "outputs": [],
   "source": [
    "more_results.append(mc3.flip())"
   ]
  },
  {
   "cell_type": "code",
   "execution_count": null,
   "metadata": {},
   "outputs": [],
   "source": [
    "more_results.append(mc3.flip())"
   ]
  },
  {
   "cell_type": "code",
   "execution_count": null,
   "metadata": {},
   "outputs": [],
   "source": [
    "result3 = len([r for r in more_results if r])"
   ]
  },
  {
   "cell_type": "markdown",
   "metadata": {},
   "source": [
    "Now what!\n",
    "\n",
    "By now you should be able to see that the probability of `True` in each flip is $\\frac{1}{4}$, but we have 5 results that we didn't see. With just 2 it took quite a bit of energy to ennumerate them and think about them all but with 5 this seems a bit much!\n",
    "\n",
    "To solve this we can use a *probability mass function* called the **Binomial Distribution**. We'll use `scipy` for this:"
   ]
  },
  {
   "cell_type": "code",
   "execution_count": 69,
   "metadata": {},
   "outputs": [],
   "source": [
    "from scipy import stats"
   ]
  },
  {
   "cell_type": "markdown",
   "metadata": {},
   "source": [
    "The binomial distribution takes a number of trials `n` and the probability of success `p`. So for the problem we just computed we would use `n=2` and `p=1/3`"
   ]
  },
  {
   "cell_type": "code",
   "execution_count": null,
   "metadata": {},
   "outputs": [],
   "source": [
    "my_dist = stats.binom(n=2,p=1/3)"
   ]
  },
  {
   "cell_type": "markdown",
   "metadata": {},
   "source": [
    "Then we can use the `.pmf` method to compute the probability of getting `k` values of `True`:"
   ]
  },
  {
   "cell_type": "code",
   "execution_count": null,
   "metadata": {},
   "outputs": [],
   "source": [
    "my_dist.pmf(0)"
   ]
  },
  {
   "cell_type": "code",
   "execution_count": null,
   "metadata": {},
   "outputs": [],
   "source": [
    "my_dist.pmf(1)"
   ]
  },
  {
   "cell_type": "code",
   "execution_count": null,
   "metadata": {},
   "outputs": [],
   "source": [
    "my_dist.pmf(2)"
   ]
  },
  {
   "cell_type": "markdown",
   "metadata": {},
   "source": [
    "We can visualize this distribution as so:"
   ]
  },
  {
   "cell_type": "code",
   "execution_count": null,
   "metadata": {},
   "outputs": [],
   "source": [
    "import seaborn as sns "
   ]
  },
  {
   "cell_type": "code",
   "execution_count": null,
   "metadata": {},
   "outputs": [],
   "source": [
    "sns.barplot(x=[0, 1, 2], y=my_dist.pmf([0, 1, 2]),\n",
    "            color=\"blue\").set_title(\"Binomial Distribution n=2,p=1/3\")"
   ]
  },
  {
   "cell_type": "markdown",
   "metadata": {},
   "source": [
    "For our new problem we know that we have `n=5` and `p=1/4` ..."
   ]
  },
  {
   "cell_type": "code",
   "execution_count": null,
   "metadata": {},
   "outputs": [],
   "source": [
    "five_tosses_dist = stats.binom(n=5, p=1 / 4)"
   ]
  },
  {
   "cell_type": "markdown",
   "metadata": {},
   "source": [
    "...and here we can see all the possible outcomes for the value of `result3`"
   ]
  },
  {
   "cell_type": "code",
   "execution_count": null,
   "metadata": {},
   "outputs": [],
   "source": [
    "sns.barplot(x=[x for x in range(0,6)],\n",
    "            y=five_tosses_dist.pmf([x for x in range(0,6)]),\n",
    "            color='blue').set_title(\"Binomial Distribution for n=5,p=1/4\")"
   ]
  },
  {
   "cell_type": "markdown",
   "metadata": {},
   "source": [
    "Now we can easily answers all sorts of question!\n",
    "\n",
    "What is the probability that the lenght of `result3` is exactly `1`?"
   ]
  },
  {
   "cell_type": "code",
   "execution_count": null,
   "metadata": {},
   "outputs": [],
   "source": [
    "five_tosses_dist.pmf(1)"
   ]
  },
  {
   "cell_type": "markdown",
   "metadata": {},
   "source": [
    "What is the probability that `result3` is length `2` or longer?"
   ]
  },
  {
   "cell_type": "code",
   "execution_count": null,
   "metadata": {},
   "outputs": [],
   "source": [
    "five_tosses_dist.pmf([2,3,4,5]).sum()"
   ]
  },
  {
   "cell_type": "markdown",
   "metadata": {},
   "source": [
    "Interesting! It's slightly more likely to have just one single `True` than to have 2 or more!\n",
    "\n",
    "What about the probability that the length is even?"
   ]
  },
  {
   "cell_type": "code",
   "execution_count": null,
   "metadata": {},
   "outputs": [],
   "source": [
    "five_tosses_dist.pmf([0,2,4]).sum()"
   ]
  },
  {
   "cell_type": "markdown",
   "metadata": {},
   "source": [
    "Okay! now make a guess at what the value of `result3` is and let's look at what's really in there:"
   ]
  },
  {
   "cell_type": "code",
   "execution_count": null,
   "metadata": {},
   "outputs": [],
   "source": [
    "result3"
   ]
  },
  {
   "cell_type": "markdown",
   "metadata": {},
   "source": [
    "## Probability and now.... STATISTICS!"
   ]
  },
  {
   "cell_type": "markdown",
   "metadata": {},
   "source": [
    "You may wonder what the difference is between *probability* and *statistics*. Rather than explain it first, let's have an object lesson first:"
   ]
  },
  {
   "cell_type": "code",
   "execution_count": 8,
   "metadata": {},
   "outputs": [],
   "source": [
    "truly_magical_coin = MagicCoin((int(time.time()) % 7)+1)"
   ]
  },
  {
   "cell_type": "markdown",
   "metadata": {},
   "source": [
    "Okay let's play our game again!"
   ]
  },
  {
   "cell_type": "code",
   "execution_count": 40,
   "metadata": {},
   "outputs": [],
   "source": [
    "magic_results = []"
   ]
  },
  {
   "cell_type": "code",
   "execution_count": 41,
   "metadata": {},
   "outputs": [],
   "source": [
    "magic_results.append(truly_magical_coin.flip())"
   ]
  },
  {
   "cell_type": "code",
   "execution_count": 42,
   "metadata": {},
   "outputs": [],
   "source": [
    "magic_results.append(truly_magical_coin.flip())"
   ]
  },
  {
   "cell_type": "code",
   "execution_count": 43,
   "metadata": {},
   "outputs": [],
   "source": [
    "magic_results.append(truly_magical_coin.flip())"
   ]
  },
  {
   "cell_type": "markdown",
   "metadata": {},
   "source": [
    "NO PEEKING! oh wait! does it even matter this time? What in the world can we expect these results to be? This coin was initialized with a value between 1 and 7 *but we don't know which one!* What do you expect the `magic_results` to be? Would `[True, True, True]` surprise you? would `[False, False, False]` surprise you?\n",
    "\n",
    "### The difference between probability and statistics\n",
    "\n",
    "When we are doing probability we know exactly how uncertain we are, but when we're doing statistics we don't even know that. The `truly_magical_coin` is different because we don't know how it was parameterized.\n",
    "\n",
    "![Stats mind](./images/stats_mind.jpg)\n",
    "\n",
    "In statistics we have less information about how the world works and most importantly we aren't entirely sure of our own state of ignorance! We can do a lot with probability: when we know exactly how ignorant we are, we can predict the behavior of the world quite well. In statistics we often don't know how things really work, and have to work hard to figure out how uncertain we even are!\n",
    "\n",
    "This is why *data* is so important in statistics. We can use data to *reverse engineer processes we want to know about* to estimate what our uncertainities are. \n",
    "\n",
    "Let's look at our `magic_results` to see if this can help us decide what's going on:"
   ]
  },
  {
   "cell_type": "code",
   "execution_count": 44,
   "metadata": {},
   "outputs": [
    {
     "data": {
      "text/plain": [
       "[False, False, False]"
      ]
     },
     "execution_count": 44,
     "metadata": {},
     "output_type": "execute_result"
    }
   ],
   "source": [
    "magic_results"
   ]
  },
  {
   "cell_type": "markdown",
   "metadata": {},
   "source": [
    "Now this information will be different each time you step through this notebook. But what would `[True, True, True]` tell you about the true value of `n` that `[True, False, False]` might now?\n",
    "\n",
    "If you get more data, can you start to make better guesses?"
   ]
  },
  {
   "cell_type": "code",
   "execution_count": 45,
   "metadata": {},
   "outputs": [],
   "source": [
    "magic_results.append(truly_magical_coin.flip())"
   ]
  },
  {
   "cell_type": "code",
   "execution_count": 46,
   "metadata": {},
   "outputs": [],
   "source": [
    "magic_results.append(truly_magical_coin.flip())"
   ]
  },
  {
   "cell_type": "code",
   "execution_count": 47,
   "metadata": {},
   "outputs": [],
   "source": [
    "magic_results.append(truly_magical_coin.flip())"
   ]
  },
  {
   "cell_type": "code",
   "execution_count": 48,
   "metadata": {},
   "outputs": [
    {
     "data": {
      "text/plain": [
       "[False, False, False, False, False, False]"
      ]
     },
     "execution_count": 48,
     "metadata": {},
     "output_type": "execute_result"
    }
   ],
   "source": [
    "magic_results"
   ]
  },
  {
   "cell_type": "markdown",
   "metadata": {},
   "source": [
    "The more we study the results of this coin the more we know about `n`... but the more we know about `n` the more we learn about what we can expect the results of this coin to be!"
   ]
  },
  {
   "cell_type": "markdown",
   "metadata": {},
   "source": [
    "## Homework\n",
    "\n",
    "Want to really understand statistics? The good news is all you really need is the `MagicCoin`. All of the other stuff we'll cover in this tutorial are just tools that we can derive from first principles from this coin. Play with this coin and try to determine what `n` is. \n",
    "\n",
    "- How does more data change this? \n",
    "- Are all values of `n` equally as difficult to predict? \n",
    "- What is the distribution of possible results when you have no information?\n",
    "- How does this distribution change as you gather data?\n",
    "- When are you confindent enough to guess `n` and feel 99% sure you have the right answer?\n",
    "\n"
   ]
  },
  {
   "cell_type": "markdown",
   "metadata": {},
   "source": [
    "### Answer -  Naive Approach\n",
    "\n",
    "We know that the `truly_magical_coin` was initialised as `MagicCoin((int(time.time()) % 7)+1)`. \n",
    "\n",
    "Hence, our event space, `E` $\\epsilon$ `[1, 6]`.\n",
    "\n",
    "We calculate the fraction of `True` in `magic_results` (`empirical_p`) and guess the probability using a binomial distribution `stats.binom(n=N, p=1/n).pmf(k=k)`, for multiple values of `n`, at a fixed `k` and `p`.\n",
    "\n",
    "We chose the `n` which yields the minimum difference."
   ]
  },
  {
   "cell_type": "code",
   "execution_count": 9,
   "metadata": {},
   "outputs": [],
   "source": [
    "from scipy import stats\n",
    "import numpy as np"
   ]
  },
  {
   "cell_type": "code",
   "execution_count": 70,
   "metadata": {},
   "outputs": [],
   "source": [
    "E = range(1, 7)\n",
    "N = len(magic_results)\n",
    "empirical_p = np.mean(magic_results)\n",
    "empirical_k = sum(magic_results)\n",
    "\n",
    "possible_n_probs = []"
   ]
  },
  {
   "cell_type": "code",
   "execution_count": 71,
   "metadata": {},
   "outputs": [],
   "source": [
    "for n in E:\n",
    "    p = stats.binom(n=N, p=1/n).pmf(k=empirical_k)\n",
    "    possible_n_probs.append(p)"
   ]
  },
  {
   "cell_type": "code",
   "execution_count": 72,
   "metadata": {},
   "outputs": [],
   "source": [
    "naive_guess = np.argmin(list(map(lambda p: abs(empirical_p - p), possible_n_probs))) + 1"
   ]
  },
  {
   "cell_type": "markdown",
   "metadata": {},
   "source": [
    "Let's not reveal the true `n`, but just check if our `naive_guess` is correct"
   ]
  },
  {
   "cell_type": "code",
   "execution_count": 73,
   "metadata": {},
   "outputs": [
    {
     "data": {
      "text/plain": [
       "False"
      ]
     },
     "execution_count": 73,
     "metadata": {},
     "output_type": "execute_result"
    }
   ],
   "source": [
    "naive_guess == truly_magical_coin.n"
   ]
  },
  {
   "cell_type": "markdown",
   "metadata": {},
   "source": [
    "Let's assess, at what value of `N` does the naive method guess the true `n`."
   ]
  },
  {
   "cell_type": "code",
   "execution_count": 74,
   "metadata": {},
   "outputs": [],
   "source": [
    "def get_naive_guess(magic_results):\n",
    "    \n",
    "    N = len(magic_results)\n",
    "    empirical_p = np.mean(magic_results)\n",
    "    empirical_k = sum(magic_results)\n",
    "\n",
    "    possible_n_probs = []\n",
    "    \n",
    "    for n in E:\n",
    "        p = stats.binom(n=N, p=1/n).pmf(k=empirical_k)\n",
    "        possible_n_probs.append(p)\n",
    "    \n",
    "    naive_guess = np.argmin(list(map(lambda p: abs(empirical_p - p), possible_n_probs))) + 1\n",
    "    return naive_guess"
   ]
  },
  {
   "cell_type": "code",
   "execution_count": 75,
   "metadata": {},
   "outputs": [
    {
     "name": "stdout",
     "output_type": "stream",
     "text": [
      "It took us 295 flips of truly_magical_coin to guess the values of n !\n"
     ]
    }
   ],
   "source": [
    "increasing_N_results = []\n",
    "N_counter = 0\n",
    "naive_guess = -1 # reseting naive_guess\n",
    "\n",
    "while naive_guess != truly_magical_coin.n:\n",
    "    increasing_N_results.append(truly_magical_coin.flip())\n",
    "    N_counter += 1\n",
    "    naive_guess = get_naive_guess(increasing_N_results)\n",
    "    \n",
    "print(f\"It took us {N_counter} flips of truly_magical_coin to guess the values of n !\")"
   ]
  },
  {
   "cell_type": "markdown",
   "metadata": {},
   "source": [
    "This simple method reveals a crucial point, either we need a more **sophisticated method** or more **data**. In this case, `E` $\\epsilon$ `[1, 6]` i.e. our event space was just 6 points. You can easily fathom what would happen if `len(E)` increses 😧.\n",
    "\n",
    "Is there a better / less data intensive way to perform parameter estimation ?\n",
    "\n",
    "We will continue to work on this after **`Part 2 - Parameter Estimation.ipynb`**."
   ]
  },
  {
   "cell_type": "code",
   "execution_count": 13,
   "metadata": {},
   "outputs": [],
   "source": [
    "import pymc3 as pm\n",
    "import arviz as az"
   ]
  },
  {
   "cell_type": "code",
   "execution_count": 36,
   "metadata": {},
   "outputs": [],
   "source": [
    "data = stats.bernoulli(p=1/truly_magical_coin.n).rvs(size=500)"
   ]
  },
  {
   "cell_type": "code",
   "execution_count": 28,
   "metadata": {},
   "outputs": [
    {
     "name": "stderr",
     "output_type": "stream",
     "text": [
      "Auto-assigning NUTS sampler...\n",
      "Initializing NUTS using jitter+adapt_diag...\n",
      "Multiprocess sampling (2 chains in 2 jobs)\n",
      "NUTS: [θ]\n",
      "Sampling 2 chains, 0 divergences: 100%|██████████| 3000/3000 [00:03<00:00, 962.37draws/s] \n"
     ]
    }
   ],
   "source": [
    "with pm.Model() as magic_coin:\n",
    "    # a priori\n",
    "    θ = pm.Beta('θ', alpha=1., beta=1.)\n",
    "    \n",
    "    # likelihood\n",
    "    y = pm.Bernoulli('y', p=θ, observed=data)\n",
    "    trace = pm.sample(1000)"
   ]
  },
  {
   "cell_type": "code",
   "execution_count": 29,
   "metadata": {},
   "outputs": [
    {
     "name": "stderr",
     "output_type": "stream",
     "text": [
      "/Users/divyanshusharma/.pyenvs/numerical-algebra/lib/python3.7/site-packages/arviz/plots/backends/matplotlib/distplot.py:38: UserWarning: Argument backend_kwargs has not effect in matplotlib.plot_distSupplied value won't be used\n",
      "  \"Argument backend_kwargs has not effect in matplotlib.plot_dist\"\n",
      "/Users/divyanshusharma/.pyenvs/numerical-algebra/lib/python3.7/site-packages/arviz/plots/backends/matplotlib/distplot.py:38: UserWarning: Argument backend_kwargs has not effect in matplotlib.plot_distSupplied value won't be used\n",
      "  \"Argument backend_kwargs has not effect in matplotlib.plot_dist\"\n"
     ]
    },
    {
     "data": {
      "image/png": "[encoded data removed]",
      "text/plain": [
       "<Figure size 864x144 with 2 Axes>"
      ]
     },
     "metadata": {
      "needs_background": "light"
     },
     "output_type": "display_data"
    }
   ],
   "source": [
    "az.plot_trace(trace);"
   ]
  },
  {
   "cell_type": "code",
   "execution_count": 30,
   "metadata": {},
   "outputs": [
    {
     "data": {
      "text/html": [
       "<div>\n",
       "<style scoped>\n",
       "    .dataframe tbody tr th:only-of-type {\n",
       "        vertical-align: middle;\n",
       "    }\n",
       "\n",
       "    .dataframe tbody tr th {\n",
       "        vertical-align: top;\n",
       "    }\n",
       "\n",
       "    .dataframe thead th {\n",
       "        text-align: right;\n",
       "    }\n",
       "</style>\n",
       "<table border=\"1\" class=\"dataframe\">\n",
       "  <thead>\n",
       "    <tr style=\"text-align: right;\">\n",
       "      <th></th>\n",
       "      <th>mean</th>\n",
       "      <th>sd</th>\n",
       "      <th>hpd_3%</th>\n",
       "      <th>hpd_97%</th>\n",
       "      <th>mcse_mean</th>\n",
       "      <th>mcse_sd</th>\n",
       "      <th>ess_mean</th>\n",
       "      <th>ess_sd</th>\n",
       "      <th>ess_bulk</th>\n",
       "      <th>ess_tail</th>\n",
       "      <th>r_hat</th>\n",
       "    </tr>\n",
       "  </thead>\n",
       "  <tbody>\n",
       "    <tr>\n",
       "      <th>θ</th>\n",
       "      <td>0.186</td>\n",
       "      <td>0.017</td>\n",
       "      <td>0.155</td>\n",
       "      <td>0.221</td>\n",
       "      <td>0.001</td>\n",
       "      <td>0.0</td>\n",
       "      <td>806.0</td>\n",
       "      <td>806.0</td>\n",
       "      <td>805.0</td>\n",
       "      <td>1366.0</td>\n",
       "      <td>1.0</td>\n",
       "    </tr>\n",
       "  </tbody>\n",
       "</table>\n",
       "</div>"
      ],
      "text/plain": [
       "    mean     sd  hpd_3%  hpd_97%  mcse_mean  mcse_sd  ess_mean  ess_sd  \\\n",
       "θ  0.186  0.017   0.155    0.221      0.001      0.0     806.0   806.0   \n",
       "\n",
       "   ess_bulk  ess_tail  r_hat  \n",
       "θ     805.0    1366.0    1.0  "
      ]
     },
     "execution_count": 30,
     "metadata": {},
     "output_type": "execute_result"
    }
   ],
   "source": [
    "az.summary(trace)"
   ]
  },
  {
   "cell_type": "code",
   "execution_count": 31,
   "metadata": {},
   "outputs": [
    {
     "data": {
      "image/png": "[encoded data removed]",
      "text/plain": [
       "<Figure size 432x288 with 1 Axes>"
      ]
     },
     "metadata": {
      "needs_background": "light"
     },
     "output_type": "display_data"
    }
   ],
   "source": [
    "az.plot_posterior(trace);"
   ]
  },
  {
   "cell_type": "code",
   "execution_count": 32,
   "metadata": {},
   "outputs": [
    {
     "data": {
      "text/plain": [
       "0.2"
      ]
     },
     "execution_count": 32,
     "metadata": {},
     "output_type": "execute_result"
    }
   ],
   "source": [
    "1/truly_magical_coin.n"
   ]
  },
  {
   "cell_type": "markdown",
   "metadata": {},
   "source": [
    "## Experiment"
   ]
  },
  {
   "cell_type": "code",
   "execution_count": 72,
   "metadata": {},
   "outputs": [],
   "source": [
    "trials = 4\n",
    "theta_real = 0.35  # unknown value in a real experiment\n",
    "\n",
    "size = 10_000\n",
    "random_state = 123"
   ]
  },
  {
   "cell_type": "code",
   "execution_count": 85,
   "metadata": {},
   "outputs": [
    {
     "data": {
      "text/plain": [
       "array([0.1822, 0.3804, 0.308 , 0.1168, 0.0126])"
      ]
     },
     "execution_count": 85,
     "metadata": {},
     "output_type": "execute_result"
    }
   ],
   "source": [
    "# Emperical binomial using bernoulli\n",
    "\n",
    "d = np.array([stats.bernoulli(p=theta_real).rvs(size=trials).sum() for i in range(size)])\n",
    "np.bincount(d) / size"
   ]
  },
  {
   "cell_type": "code",
   "execution_count": 86,
   "metadata": {},
   "outputs": [
    {
     "data": {
      "text/plain": [
       "array([0.1834, 0.3766, 0.3211, 0.1043, 0.0146])"
      ]
     },
     "execution_count": 86,
     "metadata": {},
     "output_type": "execute_result"
    }
   ],
   "source": [
    "# Emperical binomial\n",
    "\n",
    "# increading the size, the distribution starts to resemble the theoritical distribution\n",
    "# (np.histogram(stats.binom(p=theta_real, n=trials).rvs(size=size, random_state=random_state), \n",
    "#               bins=trials, density=True))\n",
    "\n",
    "np.bincount(stats.binom(p=theta_real, n=trials).rvs(size=size, random_state=random_state)) / size"
   ]
  },
  {
   "cell_type": "code",
   "execution_count": 87,
   "metadata": {},
   "outputs": [
    {
     "data": {
      "text/plain": [
       "array([0.17850625, 0.384475  , 0.3105375 , 0.111475  , 0.01500625])"
      ]
     },
     "execution_count": 87,
     "metadata": {},
     "output_type": "execute_result"
    }
   ],
   "source": [
    "# Theoritical binomial\n",
    "\n",
    "stats.binom(p=theta_real, n=trials).pmf(k=range(trials + 1))"
   ]
  },
  {
   "cell_type": "code",
   "execution_count": null,
   "metadata": {},
   "outputs": [],
   "source": []
  },
  {
   "cell_type": "code",
   "execution_count": null,
   "metadata": {},
   "outputs": [],
   "source": []
  }
 ],
 "metadata": {
  "kernelspec": {
   "display_name": "Python 3",
   "language": "python",
   "name": "python3"
  },
  "language_info": {
   "codemirror_mode": {
    "name": "ipython",
    "version": 3
   },
   "file_extension": ".py",
   "mimetype": "text/x-python",
   "name": "python",
   "nbconvert_exporter": "python",
   "pygments_lexer": "ipython3",
   "version": "3.7.6"
  },
  "toc": {
   "base_numbering": 1,
   "nav_menu": {},
   "number_sections": true,
   "sideBar": true,
   "skip_h1_title": false,
   "title_cell": "Table of Contents",
   "title_sidebar": "Contents",
   "toc_cell": false,
   "toc_position": {},
   "toc_section_display": true,
   "toc_window_display": false
  },
  "varInspector": {
   "cols": {
    "lenName": 16,
    "lenType": 16,
    "lenVar": 40
   },
   "kernels_config": {
    "python": {
     "delete_cmd_postfix": "",
     "delete_cmd_prefix": "del ",
     "library": "var_list.py",
     "varRefreshCmd": "print(var_dic_list())"
    },
    "r": {
     "delete_cmd_postfix": ") ",
     "delete_cmd_prefix": "rm(",
     "library": "var_list.r",
     "varRefreshCmd": "cat(var_dic_list()) "
    }
   },
   "types_to_exclude": [
    "module",
    "function",
    "builtin_function_or_method",
    "instance",
    "_Feature"
   ],
   "window_display": false
  }
 },
 "nbformat": 4,
 "nbformat_minor": 4
}
